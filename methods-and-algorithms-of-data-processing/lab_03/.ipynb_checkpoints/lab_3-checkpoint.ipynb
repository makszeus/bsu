{
 "cells": [
  {
   "cell_type": "markdown",
   "id": "5167c868-59f7-42fc-88ac-3a33c7add2ca",
   "metadata": {},
   "source": [
    "# Лабораторная работа 03 (проверка качества данных)\n",
    "## Задание 1: Проверка целостности данных.\n",
    "Используйте набор данных о продажах и проверьте, заполнены ли все необходимые поля. Если обнаружены пропущенные значения, определите, какой процент они составляют от общего количества данных. \n",
    "Набор данных для использования: \"Online Retail\" на Kaggle. Этот набор данных представляет собой транзакции, произошедшие в период с декабря 2010 по октябре 2011 года и зарегистрированные розничной компанией из Великобритании."
   ]
  },
  {
   "cell_type": "code",
   "execution_count": 1,
   "id": "a0feff2d-6e0b-4195-a139-aa843a7c4ef8",
   "metadata": {},
   "outputs": [
    {
     "name": "stdout",
     "output_type": "stream",
     "text": [
      "Invoice         0.000000\n",
      "StockCode       0.000000\n",
      "Description     0.410541\n",
      "Quantity        0.000000\n",
      "InvoiceDate     0.000000\n",
      "Price           0.000000\n",
      "Customer ID    22.766873\n",
      "Country         0.000000\n",
      "dtype: float64\n"
     ]
    }
   ],
   "source": [
    "import pandas as pd\n",
    "\n",
    "# Загрузка данных\n",
    "df = pd.read_csv('data_31/online_retail_II.csv')\n",
    "\n",
    "# Проверка на пропуски\n",
    "missing_data = df.isnull().sum()\n",
    "\n",
    "# Подсчет процентов пропущенных данных\n",
    "missing_percentage = (missing_data / len(df)) * 100\n",
    "\n",
    "print(missing_percentage)"
   ]
  },
  {
   "cell_type": "code",
   "execution_count": 6,
   "id": "0ca83335-6881-4f7e-a9ef-9dd92b60b4f1",
   "metadata": {},
   "outputs": [],
   "source": [
    "# Загрузка данных\n",
    "climate_df = pd.read_csv('data_32/GlobalTemperatures.csv')\n",
    "climate_by_st_df = pd.read_csv('data_32/GlobalLandTemperaturesByState.csv')\n",
    "climate_by_mj_df = pd.read_csv('data_32/GlobalLandTemperaturesByMajorCity.csv')\n",
    "climate_by_cnr_df = pd.read_csv('data_32/GlobalLandTemperaturesByCountry.csv')\n",
    "climate_by_city_df = pd.read_csv('data_32/GlobalLandTemperaturesByCity.csv')\n",
    "\n",
    "# Проверка формата дат\n",
    "climate_df['dt'] = pd.to_datetime(climate_df['dt'], format='%Y-%m-%d', errors='coerce')\n",
    "climate_by_st_df['dt'] = pd.to_datetime(climate_by_st_df['dt'], format='%Y-%m-%d', errors='coerce')\n",
    "climate_by_mj_df['dt'] = pd.to_datetime(climate_by_mj_df['dt'], format='%Y-%m-%d', errors='coerce')\n",
    "climate_by_cnr_df['dt'] = pd.to_datetime(climate_by_cnr_df['dt'], format='%Y-%m-%d', errors='coerce')\n",
    "climate_by_city_df['dt'] = pd.to_datetime(climate_by_city_df['dt'], format='%Y-%m-%d', errors='coerce')"
   ]
  },
  {
   "cell_type": "markdown",
   "id": "56132d27-256f-405d-a241-9c14a8888e77",
   "metadata": {},
   "source": [
    "## Задание 2: Проверка консистентности данных.\n",
    "Рассмотрите набор данных о климате и проверьте, соблюдаются ли форматы дат во всех записях. \n",
    "Набор данных для использования: \"Climate Change: Earth Surface Temperature Data\" на Kaggle. "
   ]
  },
  {
   "cell_type": "code",
   "execution_count": 7,
   "id": "67855d67-2d00-4c1a-9191-ccf9beed5e41",
   "metadata": {},
   "outputs": [
    {
     "name": "stdout",
     "output_type": "stream",
     "text": [
      "Количество некорректных дат в GlobalTemperatures.csv: 1\n",
      "Количество некорректных дат в GlobalLandTemperaturesByState.csv: 0\n",
      "Количество некорректных дат в GlobalLandTemperaturesByMajorCity.csv: 0\n",
      "Количество некорректных дат в GlobalLandTemperaturesByCountry.csv: 0\n",
      "Количество некорректных дат в GlobalLandTemperaturesByCity.csv: 0\n"
     ]
    }
   ],
   "source": [
    "# Проверка на ошибки в формате дат\n",
    "inconsistent_dates_1 = climate_df[climate_df['dt'].isnull()]\n",
    "inconsistent_dates_2 = climate_by_st_df[climate_by_st_df['dt'].isnull()]\n",
    "inconsistent_dates_3 = climate_by_mj_df[climate_by_mj_df['dt'].isnull()]\n",
    "inconsistent_dates_4 = climate_by_cnr_df[climate_by_cnr_df['dt'].isnull()]\n",
    "inconsistent_dates_5 = climate_by_city_df[climate_by_city_df['dt'].isnull()]\n",
    "\n",
    "print(f'Количество некорректных дат в GlobalTemperatures.csv: {len(inconsistent_dates_1)}')\n",
    "print(f'Количество некорректных дат в GlobalLandTemperaturesByState.csv: {len(inconsistent_dates_2)}')\n",
    "print(f'Количество некорректных дат в GlobalLandTemperaturesByMajorCity.csv: {len(inconsistent_dates_3)}')\n",
    "print(f'Количество некорректных дат в GlobalLandTemperaturesByCountry.csv: {len(inconsistent_dates_4)}')\n",
    "print(f'Количество некорректных дат в GlobalLandTemperaturesByCity.csv: {len(inconsistent_dates_5)}')"
   ]
  },
  {
   "cell_type": "markdown",
   "id": "4d190850-7555-4de4-806f-a4cc57484963",
   "metadata": {},
   "source": [
    "## Задание 3: Проверка актуальности данных.\n",
    "Анализируя набор данных о твитах, проверьте даты публикации твитов и определите, какие из них актуальны на текущий момент."
   ]
  },
  {
   "cell_type": "code",
   "execution_count": 8,
   "id": "ecff518d-79be-45e6-ac86-07500e35ced2",
   "metadata": {},
   "outputs": [
    {
     "name": "stdout",
     "output_type": "stream",
     "text": [
      "Количество твитов за July 2020: 51936\n",
      "Количество твитов за September 2020: 0\n"
     ]
    }
   ],
   "source": [
    "import pandas as pd\n",
    "from datetime import datetime\n",
    "\n",
    "tweets_df = pd.read_csv('data_33/covid19_tweets.csv')\n",
    "\n",
    "tweets_df['date'] = pd.to_datetime(tweets_df['date'], errors='coerce')\n",
    "\n",
    "months_to_filter = {\n",
    "    'July 2020': (datetime(2020, 7, 1), datetime(2020, 7, 31, 23, 59, 59)),\n",
    "    'September 2020': (datetime(2020, 9, 1), datetime(2020, 9, 30, 23, 59, 59))\n",
    "}\n",
    "\n",
    "for month, (start_date, end_date) in months_to_filter.items():\n",
    "    monthly_tweets = tweets_df[(tweets_df['date'] >= start_date) & (tweets_df['date'] <= end_date)]\n",
    "    print(f'Количество твитов за {month}: {len(monthly_tweets)}')"
   ]
  },
  {
   "cell_type": "markdown",
   "id": "28891365-e019-4f96-93b6-dd51d6dacc15",
   "metadata": {},
   "source": [
    "## Задание 4: Проверка полноты данных.\n",
    "Рассмотрите набор данных о заболеваемости раком, проанализируйте, приведены ли данные по всем странам или некоторые из них отсутствуют. "
   ]
  },
  {
   "cell_type": "code",
   "execution_count": 9,
   "id": "4e140e30-9dd0-479e-96b8-643e18eee9e1",
   "metadata": {},
   "outputs": [
    {
     "name": "stdout",
     "output_type": "stream",
     "text": [
      "Количество отсутствующих стран: 83\n"
     ]
    }
   ],
   "source": [
    "cancer_df = pd.read_csv('data_34/cancer.csv')\n",
    "\n",
    "unique_countries = cancer_df['Country'].unique()\n",
    "\n",
    "from pycountry import countries\n",
    "\n",
    "all_countries = set([country.name for country in countries])\n",
    "missing_countries = all_countries - set(unique_countries)\n",
    "\n",
    "print(f'Количество отсутствующих стран: {len(missing_countries)}')"
   ]
  }
 ],
 "metadata": {
  "kernelspec": {
   "display_name": "Python 3 (ipykernel)",
   "language": "python",
   "name": "python3"
  },
  "language_info": {
   "codemirror_mode": {
    "name": "ipython",
    "version": 3
   },
   "file_extension": ".py",
   "mimetype": "text/x-python",
   "name": "python",
   "nbconvert_exporter": "python",
   "pygments_lexer": "ipython3",
   "version": "3.12.7"
  }
 },
 "nbformat": 4,
 "nbformat_minor": 5
}
