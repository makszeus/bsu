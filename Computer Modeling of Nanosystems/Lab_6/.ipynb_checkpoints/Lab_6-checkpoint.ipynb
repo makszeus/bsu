{
 "cells": [
  {
   "cell_type": "code",
   "execution_count": 4,
   "id": "936b348a",
   "metadata": {},
   "outputs": [
    {
     "data": {
      "text/latex": [
       "$\\displaystyle \\sqrt{\\frac{1}{\\cos^{2}{\\left(a + 1.5 \\pi \\right)}} + \\frac{1}{\\sin^{2}{\\left(a - 1.5 \\pi \\right)}}}$"
      ],
      "text/plain": [
       "sqrt(cos(a + 1.5*pi)**(-2) + sin(a - 1.5*pi)**(-2))"
      ]
     },
     "execution_count": 4,
     "metadata": {},
     "output_type": "execute_result"
    }
   ],
   "source": [
    "# Task 6. Variant 9.\n",
    "\n",
    "import sympy as sp\n",
    "\n",
    "# Определим переменную\n",
    "a = sp.symbols('a')\n",
    "\n",
    "# Запишем выражение\n",
    "expr = sp.sqrt((sp.sin(a - 3/2 * sp.pi))**(-2) + (sp.cos(a + 3/2 * sp.pi))**(-2))\n",
    "\n",
    "# Упростим выражение\n",
    "simplified_expr = sp.apart(expr)\n",
    "\n",
    "simplified_expr"
   ]
  },
  {
   "cell_type": "code",
   "execution_count": 4,
   "id": "ef36ab77",
   "metadata": {},
   "outputs": [
    {
     "data": {
      "text/latex": [
       "$\\displaystyle \\frac{1}{x^{4} + 1}$"
      ],
      "text/plain": [
       "1/(x**4 + 1)"
      ]
     },
     "execution_count": 4,
     "metadata": {},
     "output_type": "execute_result"
    }
   ],
   "source": [
    "# Определим переменную\n",
    "x = sp.symbols('x')\n",
    "\n",
    "# Запишем выражение\n",
    "y = 1/(4*sp.sqrt(2)) * sp.log((x**2 + x*sp.sqrt(2) + 1) / (x**2 - x*sp.sqrt(2) + 1)) - 1/(2*sp.sqrt(2)) * sp.atan(x*sp.sqrt(2) / (x**2 - 1))\n",
    "\n",
    "# Найдем производную\n",
    "dy_dx = sp.diff(y, x)\n",
    "\n",
    "# Упростим полученное выражение\n",
    "simplified_dy_dx = sp.simplify(dy_dx)\n",
    "\n",
    "simplified_dy_dx"
   ]
  },
  {
   "cell_type": "code",
   "execution_count": 5,
   "id": "12242494",
   "metadata": {},
   "outputs": [
    {
     "data": {
      "text/latex": [
       "$\\displaystyle - \\operatorname{atan}{\\left(x - 2 \\right)} - \\frac{1}{x - 2}$"
      ],
      "text/plain": [
       "-atan(x - 2) - 1/(x - 2)"
      ]
     },
     "execution_count": 5,
     "metadata": {},
     "output_type": "execute_result"
    }
   ],
   "source": [
    "# Определим переменную\n",
    "x = sp.symbols('x')\n",
    "\n",
    "# Запишем выражение\n",
    "expr = 1 / ((x**2 - 4*x + 4) * (x**2 - 4*x + 5))\n",
    "\n",
    "# Найдем интеграл\n",
    "integral = sp.integrate(expr, x)\n",
    "\n",
    "# Упростим полученное выражение\n",
    "simplified_integral = sp.expand(integral)\n",
    "\n",
    "simplified_integral"
   ]
  }
 ],
 "metadata": {
  "kernelspec": {
   "display_name": "Python 3 (ipykernel)",
   "language": "python",
   "name": "python3"
  },
  "language_info": {
   "codemirror_mode": {
    "name": "ipython",
    "version": 3
   },
   "file_extension": ".py",
   "mimetype": "text/x-python",
   "name": "python",
   "nbconvert_exporter": "python",
   "pygments_lexer": "ipython3",
   "version": "3.11.5"
  }
 },
 "nbformat": 4,
 "nbformat_minor": 5
}
