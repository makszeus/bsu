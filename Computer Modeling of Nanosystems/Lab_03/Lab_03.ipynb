{
 "cells": [
  {
   "cell_type": "code",
   "execution_count": 2,
   "id": "19327d12",
   "metadata": {},
   "outputs": [
    {
     "name": "stdout",
     "output_type": "stream",
     "text": [
      "FibonucciMethod: Solution - -0.10000003311557498, number of iterations - 37\n",
      "NewtonMethod: Solution - -1.0, number of iterations - 6\n",
      "ScipyMethod: Solution - -0.10000589442350705\n"
     ]
    }
   ],
   "source": [
    "# Task 3. Variant 9.\n",
    "\n",
    "import numpy as np\n",
    "import math as m\n",
    "from scipy.optimize import minimize_scalar\n",
    "\n",
    "def custom_function(x):\n",
    "    return 1 / x + np.exp(x)\n",
    "\n",
    "def Fibonucci_method(eps=1e-7):\n",
    "    a, b = -1.7, -0.1\n",
    "    l = 1\n",
    "    num = m.ceil((b - a) / (l * eps))\n",
    "    fib = [1, 1]\n",
    "    while not num < fib[-1]:\n",
    "        fib.append(fib[-1] + fib[-2])\n",
    "\n",
    "    n = len(fib)\n",
    "    nm = n\n",
    "    n -= 1\n",
    "    \n",
    "    x1 = a + (b - a) * fib[n - 2] / fib[n]\n",
    "    x2 = a + (b - a) * fib[n - 1] / fib[n]\n",
    "\n",
    "    while n > 1:\n",
    "        if custom_function(x1) < custom_function(x2):\n",
    "            b = x2\n",
    "            x2 = x1\n",
    "            x1 = a + (fib[-3] / fib[-1]) * (b - a)\n",
    "        else:\n",
    "            a = x1\n",
    "            x1 = x2\n",
    "            x2 = a + (fib[-3] / fib[-2]) * (b - a)\n",
    "        fib = fib[:-1]\n",
    "        n -= 1\n",
    "    answ = (a + b) / 2\n",
    "    print(f\"FibonucciMethod: Solution - {answ}, number of iterations - {nm}\")\n",
    "\n",
    "def Newton_method(eps=1e-7):\n",
    "    df = lambda x: np.exp(-x**2/2) * (1 - x**2)\n",
    "    ddf = lambda x: np.exp(-x**2/2) * (-3*x + x**3)\n",
    "\n",
    "    x0 = -0.3\n",
    "    counter = 0\n",
    "\n",
    "    for _ in range(100):\n",
    "        x1 = x0 - df(x0) / ddf(x0)\n",
    "        counter += 1\n",
    "\n",
    "        if abs(x1 - x0) < eps:\n",
    "            x0 = x1\n",
    "            break\n",
    "\n",
    "        x0 = x1\n",
    "\n",
    "    print(f\"Newton-Method: Solution - {x0}, number of iterations - {counter}\")\n",
    "\n",
    "def Scipy_method():\n",
    "    answ = minimize_scalar(custom_function, bounds=(-1.7, -0.1), method='bounded')\n",
    "    print(f\"Scipy-Method: Solution - {answ.x}\")\n",
    "\n",
    "def main():\n",
    "    Fibonucci_method()\n",
    "    Newton_method()\n",
    "    Scipy_method()\n",
    "\n",
    "if __name__ == \"__main__\":\n",
    "    main()"
   ]
  }
 ],
 "metadata": {
  "kernelspec": {
   "display_name": "Python 3 (ipykernel)",
   "language": "python",
   "name": "python3"
  },
  "language_info": {
   "codemirror_mode": {
    "name": "ipython",
    "version": 3
   },
   "file_extension": ".py",
   "mimetype": "text/x-python",
   "name": "python",
   "nbconvert_exporter": "python",
   "pygments_lexer": "ipython3",
   "version": "3.11.5"
  }
 },
 "nbformat": 4,
 "nbformat_minor": 5
}
