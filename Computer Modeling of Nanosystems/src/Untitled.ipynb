{
 "cells": [
  {
   "cell_type": "code",
   "execution_count": 1,
   "id": "752d72f0",
   "metadata": {},
   "outputs": [
    {
     "name": "stdout",
     "output_type": "stream",
     "text": [
      "Минимальное значение функции F(a) на отрезке [2, 3] равно -11.519620351290778 при a = 2.6096045110506236\n"
     ]
    }
   ],
   "source": [
    "import numpy as np\n",
    "from scipy import integrate, optimize\n",
    "from scipy.special import jv, hermite\n",
    "\n",
    "# Определение функции F(a)\n",
    "def F(a):\n",
    "    def integrand(x):\n",
    "        return jv(0, a*x) * hermite(5)(x/a)\n",
    "    integral, error = integrate.quad(integrand, 1, 2)\n",
    "    return integral\n",
    "\n",
    "# Нахождение минимального значения функции F(a) на отрезке [2, 3]\n",
    "result = optimize.minimize_scalar(F, bounds=(2, 3), method='bounded')\n",
    "print(f\"Минимальное значение функции F(a) на отрезке [2, 3] равно {result.fun} при a = {result.x}\")"
   ]
  },
  {
   "cell_type": "code",
   "execution_count": 3,
   "id": "3b5a27b0",
   "metadata": {},
   "outputs": [
    {
     "data": {
      "image/png": "[encoded data removed]",
      "text/plain": [
       "<Figure size 432x288 with 1 Axes>"
      ]
     },
     "metadata": {
      "needs_background": "light"
     },
     "output_type": "display_data"
    }
   ],
   "source": [
    "import numpy as np\n",
    "from scipy.integrate import solve_ivp\n",
    "import matplotlib.pyplot as plt\n",
    "\n",
    "# Определение системы уравнений\n",
    "def system(t, y):\n",
    "    return [y[1], y[2], 3*y[2] - 3*y[1] + y[0]]\n",
    "\n",
    "# Начальные условия\n",
    "y0 = [0, 0, -1]\n",
    "\n",
    "# Решение системы уравнений\n",
    "sol = solve_ivp(system, [0, 2], y0, t_eval=np.linspace(0, 2, 100))\n",
    "\n",
    "# Построение графика решения\n",
    "plt.plot(sol.t, sol.y[0])\n",
    "plt.xlabel('t')\n",
    "plt.ylabel('y(t)')\n",
    "plt.title('График решения')\n",
    "plt.grid(True)\n",
    "plt.show()\n"
   ]
  },
  {
   "cell_type": "code",
   "execution_count": null,
   "id": "7207aee0",
   "metadata": {},
   "outputs": [],
   "source": []
  },
  {
   "cell_type": "code",
   "execution_count": 1,
   "id": "868e0a04",
   "metadata": {},
   "outputs": [
    {
     "name": "stdout",
     "output_type": "stream",
     "text": [
      "Время решения с помощью solve_banded: 0.007460355758666992 секунд\n"
     ]
    },
    {
     "name": "stderr",
     "output_type": "stream",
     "text": [
      "/tmp/ipykernel_48765/2384502881.py:33: DeprecationWarning: scipy.sparse.linalg.lgmres called without specifying `atol`. The default value will change in the future. To preserve current behavior, set ``atol=tol``.\n",
      "  x_lgmres, info = scipy.sparse.linalg.lgmres(A_sparse, b)\n"
     ]
    },
    {
     "name": "stdout",
     "output_type": "stream",
     "text": [
      "Время решения с помощью lgmres: 8.587770223617554 секунд\n"
     ]
    }
   ],
   "source": [
    "import numpy as np\n",
    "import scipy.linalg\n",
    "import scipy.sparse.linalg\n",
    "import time\n",
    "\n",
    "# Создаем трехдиагональную матрицу\n",
    "n = 10000\n",
    "main_diag = np.random.rand(n)\n",
    "lower_diag = np.random.rand(n-1)\n",
    "upper_diag = np.random.rand(n-1)\n",
    "A = np.diag(main_diag) + np.diag(lower_diag, -1) + np.diag(upper_diag, 1)\n",
    "\n",
    "# Создаем вектор правой части\n",
    "b = np.random.rand(n)\n",
    "\n",
    "# Преобразуем матрицу для использования в solve_banded\n",
    "ab = np.zeros((3, n))\n",
    "ab[0, 1:] = upper_diag\n",
    "ab[1, :] = main_diag\n",
    "ab[2, :-1] = lower_diag\n",
    "\n",
    "# Решаем с помощью solve_banded\n",
    "start = time.time()\n",
    "x_banded = scipy.linalg.solve_banded((1, 1), ab, b)\n",
    "end = time.time()\n",
    "print(f\"Время решения с помощью solve_banded: {end - start} секунд\")\n",
    "\n",
    "# Преобразуем матрицу для использования в lgmres\n",
    "A_sparse = scipy.sparse.diags([lower_diag, main_diag, upper_diag], [-1, 0, 1])\n",
    "\n",
    "# Решаем с помощью lgmres\n",
    "start = time.time()\n",
    "x_lgmres, info = scipy.sparse.linalg.lgmres(A_sparse, b)\n",
    "end = time.time()\n",
    "print(f\"Время решения с помощью lgmres: {end - start} секунд\")\n"
   ]
  },
  {
   "cell_type": "code",
   "execution_count": null,
   "id": "206645bd",
   "metadata": {},
   "outputs": [],
   "source": []
  }
 ],
 "metadata": {
  "kernelspec": {
   "display_name": "Python 3 (ipykernel)",
   "language": "python",
   "name": "python3"
  },
  "language_info": {
   "codemirror_mode": {
    "name": "ipython",
    "version": 3
   },
   "file_extension": ".py",
   "mimetype": "text/x-python",
   "name": "python",
   "nbconvert_exporter": "python",
   "pygments_lexer": "ipython3",
   "version": "3.10.12"
  }
 },
 "nbformat": 4,
 "nbformat_minor": 5
}
