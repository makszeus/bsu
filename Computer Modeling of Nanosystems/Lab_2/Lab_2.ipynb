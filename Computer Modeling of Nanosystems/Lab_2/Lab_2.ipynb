{
 "cells": [
  {
   "cell_type": "code",
   "execution_count": 3,
   "id": "843c9311",
   "metadata": {},
   "outputs": [
    {
     "name": "stdout",
     "output_type": "stream",
     "text": [
      "Решение с помощью solve_banded: [2482.10004324 4963.57673663 7444.33822783 ... 7462.51709492 4975.0775799\n",
      " 2487.6154687 ], время выполнения: 0.0009770393371582031\n",
      "Решение с помощью lgmres: [2482.10359909 4963.58384806 7444.34889439 ... 7462.5288721  4975.08543151\n",
      " 2487.61939454], время выполнения: 3.405729293823242\n",
      "Норма разности этих двух решений: 2132.8986256922644\n"
     ]
    }
   ],
   "source": [
    "# Task 2. Variant 9.\n",
    "\n",
    "import numpy as np\n",
    "from scipy.linalg import solve_banded\n",
    "from scipy.sparse.linalg import lgmres\n",
    "from scipy.sparse import diags\n",
    "from time import time\n",
    "\n",
    "def solve_systems(n):\n",
    "    # Создание матрицы для solve_banded\n",
    "    ab = np.zeros((3, n))\n",
    "    ab[0, 1:] = -1   # Верхняя диагональ\n",
    "    ab[1, :] = 2     # Главная диагональ\n",
    "    ab[2, :-1] = -1  # Нижняя диагональ\n",
    "\n",
    "    # Создание матрицы для lgmres\n",
    "    diagonals = [-1 * np.ones(n-1), 2 * np.ones(n), -1 * np.ones(n-1)]\n",
    "    A_lgmres = diags(diagonals, [-1, 0, 1])\n",
    "\n",
    "    # Генерация вектора b\n",
    "    b = np.random.rand(n)\n",
    "\n",
    "    # Решение системы с помощью solve_banded и lgmres\n",
    "    t1 = time()\n",
    "    x_banded = solve_banded((1, 1), ab, b)\n",
    "    t2 = time()\n",
    "    tol = 1e-6  # Задайте значение tol\n",
    "    x_lgmres, info = lgmres(A_lgmres, b, atol=tol)  # Укажите atol=tol\n",
    "    t3 = time()\n",
    "\n",
    "    print(f\"Решение с помощью solve_banded: {x_banded}, время выполнения: {t2 - t1}\")\n",
    "    print(f\"Решение с помощью lgmres: {x_lgmres}, время выполнения: {t3 - t2}\")\n",
    "    n = np.linalg.norm(x_banded - x_lgmres)\n",
    "    print(f\"Норма разности этих двух решений: {n}\")\n",
    "\n",
    "def main():\n",
    "    n = 10000\n",
    "    solve_systems(n)\n",
    "\n",
    "if __name__ == \"__main__\":\n",
    "    main()"
   ]
  }
 ],
 "metadata": {
  "kernelspec": {
   "display_name": "Python 3 (ipykernel)",
   "language": "python",
   "name": "python3"
  },
  "language_info": {
   "codemirror_mode": {
    "name": "ipython",
    "version": 3
   },
   "file_extension": ".py",
   "mimetype": "text/x-python",
   "name": "python",
   "nbconvert_exporter": "python",
   "pygments_lexer": "ipython3",
   "version": "3.11.5"
  }
 },
 "nbformat": 4,
 "nbformat_minor": 5
}
